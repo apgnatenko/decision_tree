{
 "cells": [
  {
   "cell_type": "code",
   "execution_count": 1,
   "metadata": {},
   "outputs": [],
   "source": [
    "import numpy as np\n",
    "from utils import generate_tree_viz\n",
    "from src import DecisionTree\n",
    "%matplotlib inline\n"
   ]
  },
  {
   "cell_type": "code",
   "execution_count": 2,
   "metadata": {},
   "outputs": [],
   "source": [
    "decision_tree_builder = DecisionTree()"
   ]
  },
  {
   "cell_type": "code",
   "execution_count": 3,
   "metadata": {},
   "outputs": [],
   "source": [
    "X_train = np.array([[1,1,1],[1,0,1],[1,0,0],[1,0,0],[1,1,1],[0,1,1],[0,0,0],[1,0,1],[0,1,0],[1,0,0]])\n",
    "y_train = np.array([1,1,0,0,1,0,0,1,1,0])\n",
    "root_indices = [0, 1, 2, 3, 4, 5, 6, 7, 8, 9]"
   ]
  },
  {
   "cell_type": "code",
   "execution_count": 4,
   "metadata": {},
   "outputs": [
    {
     "name": "stdout",
     "output_type": "stream",
     "text": [
      " Depth 0, Root: Split on feature: 2\n",
      "- Depth 1, Left: Split on feature: 0\n",
      "  -- Left leaf node with indices [0, 1, 4, 7]\n",
      "  -- Right leaf node with indices [5]\n",
      "- Depth 1, Right: Split on feature: 1\n",
      "  -- Left leaf node with indices [8]\n",
      "  -- Right leaf node with indices [2, 3, 6, 9]\n"
     ]
    },
    {
     "ename": "FileNotFoundError",
     "evalue": "[Errno 2] \"dot\" not found in path.",
     "output_type": "error",
     "traceback": [
      "\u001b[0;31m---------------------------------------------------------------------------\u001b[0m",
      "\u001b[0;31mFileNotFoundError\u001b[0m                         Traceback (most recent call last)",
      "File \u001b[0;32m~/.local/lib/python3.8/site-packages/pydot.py:1923\u001b[0m, in \u001b[0;36mDot.create\u001b[0;34m(self, prog, format, encoding)\u001b[0m\n\u001b[1;32m   1922\u001b[0m \u001b[39mtry\u001b[39;00m:\n\u001b[0;32m-> 1923\u001b[0m     stdout_data, stderr_data, process \u001b[39m=\u001b[39m call_graphviz(\n\u001b[1;32m   1924\u001b[0m         program\u001b[39m=\u001b[39;49mprog,\n\u001b[1;32m   1925\u001b[0m         arguments\u001b[39m=\u001b[39;49marguments,\n\u001b[1;32m   1926\u001b[0m         working_dir\u001b[39m=\u001b[39;49mtmp_dir,\n\u001b[1;32m   1927\u001b[0m     )\n\u001b[1;32m   1928\u001b[0m \u001b[39mexcept\u001b[39;00m \u001b[39mOSError\u001b[39;00m \u001b[39mas\u001b[39;00m e:\n",
      "File \u001b[0;32m~/.local/lib/python3.8/site-packages/pydot.py:132\u001b[0m, in \u001b[0;36mcall_graphviz\u001b[0;34m(program, arguments, working_dir, **kwargs)\u001b[0m\n\u001b[1;32m    130\u001b[0m program_with_args \u001b[39m=\u001b[39m [program, ] \u001b[39m+\u001b[39m arguments\n\u001b[0;32m--> 132\u001b[0m process \u001b[39m=\u001b[39m subprocess\u001b[39m.\u001b[39;49mPopen(\n\u001b[1;32m    133\u001b[0m     program_with_args,\n\u001b[1;32m    134\u001b[0m     env\u001b[39m=\u001b[39;49menv,\n\u001b[1;32m    135\u001b[0m     cwd\u001b[39m=\u001b[39;49mworking_dir,\n\u001b[1;32m    136\u001b[0m     shell\u001b[39m=\u001b[39;49m\u001b[39mFalse\u001b[39;49;00m,\n\u001b[1;32m    137\u001b[0m     stderr\u001b[39m=\u001b[39;49msubprocess\u001b[39m.\u001b[39;49mPIPE,\n\u001b[1;32m    138\u001b[0m     stdout\u001b[39m=\u001b[39;49msubprocess\u001b[39m.\u001b[39;49mPIPE,\n\u001b[1;32m    139\u001b[0m     \u001b[39m*\u001b[39;49m\u001b[39m*\u001b[39;49mkwargs\n\u001b[1;32m    140\u001b[0m )\n\u001b[1;32m    141\u001b[0m stdout_data, stderr_data \u001b[39m=\u001b[39m process\u001b[39m.\u001b[39mcommunicate()\n",
      "File \u001b[0;32m/usr/lib/python3.8/subprocess.py:858\u001b[0m, in \u001b[0;36mPopen.__init__\u001b[0;34m(self, args, bufsize, executable, stdin, stdout, stderr, preexec_fn, close_fds, shell, cwd, env, universal_newlines, startupinfo, creationflags, restore_signals, start_new_session, pass_fds, encoding, errors, text)\u001b[0m\n\u001b[1;32m    855\u001b[0m             \u001b[39mself\u001b[39m\u001b[39m.\u001b[39mstderr \u001b[39m=\u001b[39m io\u001b[39m.\u001b[39mTextIOWrapper(\u001b[39mself\u001b[39m\u001b[39m.\u001b[39mstderr,\n\u001b[1;32m    856\u001b[0m                     encoding\u001b[39m=\u001b[39mencoding, errors\u001b[39m=\u001b[39merrors)\n\u001b[0;32m--> 858\u001b[0m     \u001b[39mself\u001b[39;49m\u001b[39m.\u001b[39;49m_execute_child(args, executable, preexec_fn, close_fds,\n\u001b[1;32m    859\u001b[0m                         pass_fds, cwd, env,\n\u001b[1;32m    860\u001b[0m                         startupinfo, creationflags, shell,\n\u001b[1;32m    861\u001b[0m                         p2cread, p2cwrite,\n\u001b[1;32m    862\u001b[0m                         c2pread, c2pwrite,\n\u001b[1;32m    863\u001b[0m                         errread, errwrite,\n\u001b[1;32m    864\u001b[0m                         restore_signals, start_new_session)\n\u001b[1;32m    865\u001b[0m \u001b[39mexcept\u001b[39;00m:\n\u001b[1;32m    866\u001b[0m     \u001b[39m# Cleanup if the child failed starting.\u001b[39;00m\n",
      "File \u001b[0;32m/usr/lib/python3.8/subprocess.py:1704\u001b[0m, in \u001b[0;36mPopen._execute_child\u001b[0;34m(self, args, executable, preexec_fn, close_fds, pass_fds, cwd, env, startupinfo, creationflags, shell, p2cread, p2cwrite, c2pread, c2pwrite, errread, errwrite, restore_signals, start_new_session)\u001b[0m\n\u001b[1;32m   1703\u001b[0m         err_msg \u001b[39m=\u001b[39m os\u001b[39m.\u001b[39mstrerror(errno_num)\n\u001b[0;32m-> 1704\u001b[0m     \u001b[39mraise\u001b[39;00m child_exception_type(errno_num, err_msg, err_filename)\n\u001b[1;32m   1705\u001b[0m \u001b[39mraise\u001b[39;00m child_exception_type(err_msg)\n",
      "\u001b[0;31mFileNotFoundError\u001b[0m: [Errno 2] No such file or directory: 'dot'",
      "\nDuring handling of the above exception, another exception occurred:\n",
      "\u001b[0;31mFileNotFoundError\u001b[0m                         Traceback (most recent call last)",
      "Cell \u001b[0;32mIn[4], line 2\u001b[0m\n\u001b[1;32m      1\u001b[0m decision_tree_builder\u001b[39m.\u001b[39mbuild_tree_recursive(X_train, y_train, root_indices, \u001b[39m\"\u001b[39m\u001b[39mRoot\u001b[39m\u001b[39m\"\u001b[39m, max_depth\u001b[39m=\u001b[39m\u001b[39m2\u001b[39m, current_depth\u001b[39m=\u001b[39m\u001b[39m0\u001b[39m)\n\u001b[0;32m----> 2\u001b[0m generate_tree_viz(root_indices, y_train, decision_tree_builder\u001b[39m.\u001b[39;49mtree)\n",
      "File \u001b[0;32m~/Documents/projects/decision_tree/utils.py:59\u001b[0m, in \u001b[0;36mgenerate_tree_viz\u001b[0;34m(root_indices, y, tree)\u001b[0m\n\u001b[1;32m     55\u001b[0m     root \u001b[39m+\u001b[39m\u001b[39m=\u001b[39m \u001b[39m1\u001b[39m\n\u001b[1;32m     58\u001b[0m node_names \u001b[39m=\u001b[39m decision_names \u001b[39m+\u001b[39m leaf_names\n\u001b[0;32m---> 59\u001b[0m pos \u001b[39m=\u001b[39m graphviz_layout(G, prog\u001b[39m=\u001b[39;49m\u001b[39m\"\u001b[39;49m\u001b[39mdot\u001b[39;49m\u001b[39m\"\u001b[39;49m)\n\u001b[1;32m     61\u001b[0m fig\u001b[39m=\u001b[39mplt\u001b[39m.\u001b[39mfigure(figsize\u001b[39m=\u001b[39m(\u001b[39m14\u001b[39m, \u001b[39m10\u001b[39m))\n\u001b[1;32m     62\u001b[0m ax\u001b[39m=\u001b[39mplt\u001b[39m.\u001b[39msubplot(\u001b[39m111\u001b[39m)\n",
      "File \u001b[0;32m~/.local/lib/python3.8/site-packages/networkx/drawing/nx_pydot.py:357\u001b[0m, in \u001b[0;36mgraphviz_layout\u001b[0;34m(G, prog, root)\u001b[0m\n\u001b[1;32m    349\u001b[0m msg \u001b[39m=\u001b[39m (\n\u001b[1;32m    350\u001b[0m     \u001b[39m\"\u001b[39m\u001b[39mnx.nx_pydot.graphviz_layout depends on the pydot package, which has\u001b[39m\u001b[39m\"\u001b[39m\n\u001b[1;32m    351\u001b[0m     \u001b[39m\"\u001b[39m\u001b[39mknown issues and is not actively maintained. Consider using\u001b[39m\u001b[39m\"\u001b[39m\n\u001b[1;32m    352\u001b[0m     \u001b[39m\"\u001b[39m\u001b[39mnx.nx_agraph.graphviz_layout instead.\u001b[39m\u001b[39m\\n\u001b[39;00m\u001b[39m\\n\u001b[39;00m\u001b[39m\"\u001b[39m\n\u001b[1;32m    353\u001b[0m     \u001b[39m\"\u001b[39m\u001b[39mSee https://github.com/networkx/networkx/issues/5723\u001b[39m\u001b[39m\"\u001b[39m\n\u001b[1;32m    354\u001b[0m )\n\u001b[1;32m    355\u001b[0m warnings\u001b[39m.\u001b[39mwarn(msg, \u001b[39mDeprecationWarning\u001b[39;00m, stacklevel\u001b[39m=\u001b[39m\u001b[39m2\u001b[39m)\n\u001b[0;32m--> 357\u001b[0m \u001b[39mreturn\u001b[39;00m pydot_layout(G\u001b[39m=\u001b[39;49mG, prog\u001b[39m=\u001b[39;49mprog, root\u001b[39m=\u001b[39;49mroot)\n",
      "File \u001b[0;32m~/.local/lib/python3.8/site-packages/networkx/drawing/nx_pydot.py:412\u001b[0m, in \u001b[0;36mpydot_layout\u001b[0;34m(G, prog, root)\u001b[0m\n\u001b[1;32m    408\u001b[0m     P\u001b[39m.\u001b[39mset(\u001b[39m\"\u001b[39m\u001b[39mroot\u001b[39m\u001b[39m\"\u001b[39m, \u001b[39mstr\u001b[39m(root))\n\u001b[1;32m    410\u001b[0m \u001b[39m# List of low-level bytes comprising a string in the dot language converted\u001b[39;00m\n\u001b[1;32m    411\u001b[0m \u001b[39m# from the passed graph with the passed external GraphViz command.\u001b[39;00m\n\u001b[0;32m--> 412\u001b[0m D_bytes \u001b[39m=\u001b[39m P\u001b[39m.\u001b[39;49mcreate_dot(prog\u001b[39m=\u001b[39;49mprog)\n\u001b[1;32m    414\u001b[0m \u001b[39m# Unique string decoded from these bytes with the preferred locale encoding\u001b[39;00m\n\u001b[1;32m    415\u001b[0m D \u001b[39m=\u001b[39m \u001b[39mstr\u001b[39m(D_bytes, encoding\u001b[39m=\u001b[39mgetpreferredencoding())\n",
      "File \u001b[0;32m~/.local/lib/python3.8/site-packages/pydot.py:1733\u001b[0m, in \u001b[0;36mDot.__init__.<locals>.new_method\u001b[0;34m(f, prog, encoding)\u001b[0m\n\u001b[1;32m   1729\u001b[0m \u001b[39mdef\u001b[39;00m \u001b[39mnew_method\u001b[39m(\n\u001b[1;32m   1730\u001b[0m         f\u001b[39m=\u001b[39mfrmt, prog\u001b[39m=\u001b[39m\u001b[39mself\u001b[39m\u001b[39m.\u001b[39mprog,\n\u001b[1;32m   1731\u001b[0m         encoding\u001b[39m=\u001b[39m\u001b[39mNone\u001b[39;00m):\n\u001b[1;32m   1732\u001b[0m     \u001b[39m\"\"\"Refer to docstring of method `create`.\"\"\"\u001b[39;00m\n\u001b[0;32m-> 1733\u001b[0m     \u001b[39mreturn\u001b[39;00m \u001b[39mself\u001b[39;49m\u001b[39m.\u001b[39;49mcreate(\n\u001b[1;32m   1734\u001b[0m         \u001b[39mformat\u001b[39;49m\u001b[39m=\u001b[39;49mf, prog\u001b[39m=\u001b[39;49mprog, encoding\u001b[39m=\u001b[39;49mencoding)\n",
      "File \u001b[0;32m~/.local/lib/python3.8/site-packages/pydot.py:1933\u001b[0m, in \u001b[0;36mDot.create\u001b[0;34m(self, prog, format, encoding)\u001b[0m\n\u001b[1;32m   1930\u001b[0m     args \u001b[39m=\u001b[39m \u001b[39mlist\u001b[39m(e\u001b[39m.\u001b[39margs)\n\u001b[1;32m   1931\u001b[0m     args[\u001b[39m1\u001b[39m] \u001b[39m=\u001b[39m \u001b[39m'\u001b[39m\u001b[39m\"\u001b[39m\u001b[39m{prog}\u001b[39;00m\u001b[39m\"\u001b[39m\u001b[39m not found in path.\u001b[39m\u001b[39m'\u001b[39m\u001b[39m.\u001b[39mformat(\n\u001b[1;32m   1932\u001b[0m         prog\u001b[39m=\u001b[39mprog)\n\u001b[0;32m-> 1933\u001b[0m     \u001b[39mraise\u001b[39;00m \u001b[39mOSError\u001b[39;00m(\u001b[39m*\u001b[39margs)\n\u001b[1;32m   1934\u001b[0m \u001b[39melse\u001b[39;00m:\n\u001b[1;32m   1935\u001b[0m     \u001b[39mraise\u001b[39;00m\n",
      "\u001b[0;31mFileNotFoundError\u001b[0m: [Errno 2] \"dot\" not found in path."
     ]
    }
   ],
   "source": [
    "\n",
    "decision_tree_builder.build_tree_recursive(X_train, y_train, root_indices, \"Root\", max_depth=2, current_depth=0)\n",
    "generate_tree_viz(root_indices, y_train, decision_tree_builder.tree)"
   ]
  },
  {
   "cell_type": "code",
   "execution_count": null,
   "metadata": {},
   "outputs": [],
   "source": []
  }
 ],
 "metadata": {
  "kernelspec": {
   "display_name": "Python 3",
   "language": "python",
   "name": "python3"
  },
  "language_info": {
   "codemirror_mode": {
    "name": "ipython",
    "version": 3
   },
   "file_extension": ".py",
   "mimetype": "text/x-python",
   "name": "python",
   "nbconvert_exporter": "python",
   "pygments_lexer": "ipython3",
   "version": "3.8.10"
  },
  "orig_nbformat": 4
 },
 "nbformat": 4,
 "nbformat_minor": 2
}
